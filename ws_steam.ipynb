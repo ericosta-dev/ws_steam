{
  "nbformat": 4,
  "nbformat_minor": 0,
  "metadata": {
    "colab": {
      "name": "ws_steam.ipynb",
      "provenance": [],
      "collapsed_sections": []
    },
    "kernelspec": {
      "name": "python3",
      "display_name": "Python 3"
    },
    "language_info": {
      "name": "python"
    }
  },
  "cells": [
    {
      "cell_type": "code",
      "source": [
        "!pip install -U selenium\n",
        "!apt-get update #atualiza a lista das versões dos pacotes disponíveis\n",
        "!apt install chromium-chromedriver"
      ],
      "metadata": {
        "id": "TzZYQYJNT6WD",
        "colab": {
          "base_uri": "https://localhost:8080/",
          "height": 1000
        },
        "outputId": "5e370c27-23b5-4ad4-de75-4969d4aa35d1"
      },
      "execution_count": 2,
      "outputs": [
        {
          "output_type": "stream",
          "name": "stdout",
          "text": [
            "Collecting selenium\n",
            "  Downloading selenium-4.1.0-py3-none-any.whl (958 kB)\n",
            "\u001b[K     |████████████████████████████████| 958 kB 5.1 MB/s \n",
            "\u001b[?25hCollecting urllib3[secure]~=1.26\n",
            "  Downloading urllib3-1.26.7-py2.py3-none-any.whl (138 kB)\n",
            "\u001b[K     |████████████████████████████████| 138 kB 56.6 MB/s \n",
            "\u001b[?25hCollecting trio~=0.17\n",
            "  Downloading trio-0.19.0-py3-none-any.whl (356 kB)\n",
            "\u001b[K     |████████████████████████████████| 356 kB 40.3 MB/s \n",
            "\u001b[?25hCollecting trio-websocket~=0.9\n",
            "  Downloading trio_websocket-0.9.2-py3-none-any.whl (16 kB)\n",
            "Collecting outcome\n",
            "  Downloading outcome-1.1.0-py2.py3-none-any.whl (9.7 kB)\n",
            "Collecting async-generator>=1.9\n",
            "  Downloading async_generator-1.10-py3-none-any.whl (18 kB)\n",
            "Requirement already satisfied: attrs>=19.2.0 in /usr/local/lib/python3.7/dist-packages (from trio~=0.17->selenium) (21.2.0)\n",
            "Requirement already satisfied: idna in /usr/local/lib/python3.7/dist-packages (from trio~=0.17->selenium) (2.10)\n",
            "Requirement already satisfied: sortedcontainers in /usr/local/lib/python3.7/dist-packages (from trio~=0.17->selenium) (2.4.0)\n",
            "Collecting sniffio\n",
            "  Downloading sniffio-1.2.0-py3-none-any.whl (10 kB)\n",
            "Collecting wsproto>=0.14\n",
            "  Downloading wsproto-1.0.0-py3-none-any.whl (24 kB)\n",
            "Collecting pyOpenSSL>=0.14\n",
            "  Downloading pyOpenSSL-21.0.0-py2.py3-none-any.whl (55 kB)\n",
            "\u001b[K     |████████████████████████████████| 55 kB 2.7 MB/s \n",
            "\u001b[?25hRequirement already satisfied: certifi in /usr/local/lib/python3.7/dist-packages (from urllib3[secure]~=1.26->selenium) (2021.10.8)\n",
            "Collecting cryptography>=1.3.4\n",
            "  Downloading cryptography-36.0.0-cp36-abi3-manylinux_2_24_x86_64.whl (3.6 MB)\n",
            "\u001b[K     |████████████████████████████████| 3.6 MB 35.9 MB/s \n",
            "\u001b[?25hRequirement already satisfied: cffi>=1.12 in /usr/local/lib/python3.7/dist-packages (from cryptography>=1.3.4->urllib3[secure]~=1.26->selenium) (1.15.0)\n",
            "Requirement already satisfied: pycparser in /usr/local/lib/python3.7/dist-packages (from cffi>=1.12->cryptography>=1.3.4->urllib3[secure]~=1.26->selenium) (2.21)\n",
            "Requirement already satisfied: six>=1.5.2 in /usr/local/lib/python3.7/dist-packages (from pyOpenSSL>=0.14->urllib3[secure]~=1.26->selenium) (1.15.0)\n",
            "Collecting h11<1,>=0.9.0\n",
            "  Downloading h11-0.12.0-py3-none-any.whl (54 kB)\n",
            "\u001b[K     |████████████████████████████████| 54 kB 2.9 MB/s \n",
            "\u001b[?25hInstalling collected packages: sniffio, outcome, h11, cryptography, async-generator, wsproto, urllib3, trio, pyOpenSSL, trio-websocket, selenium\n",
            "  Attempting uninstall: urllib3\n",
            "    Found existing installation: urllib3 1.24.3\n",
            "    Uninstalling urllib3-1.24.3:\n",
            "      Successfully uninstalled urllib3-1.24.3\n",
            "\u001b[31mERROR: pip's dependency resolver does not currently take into account all the packages that are installed. This behaviour is the source of the following dependency conflicts.\n",
            "requests 2.23.0 requires urllib3!=1.25.0,!=1.25.1,<1.26,>=1.21.1, but you have urllib3 1.26.7 which is incompatible.\n",
            "datascience 0.10.6 requires folium==0.2.1, but you have folium 0.8.3 which is incompatible.\u001b[0m\n",
            "Successfully installed async-generator-1.10 cryptography-36.0.0 h11-0.12.0 outcome-1.1.0 pyOpenSSL-21.0.0 selenium-4.1.0 sniffio-1.2.0 trio-0.19.0 trio-websocket-0.9.2 urllib3-1.26.7 wsproto-1.0.0\n"
          ]
        },
        {
          "output_type": "display_data",
          "data": {
            "application/vnd.colab-display-data+json": {
              "pip_warning": {
                "packages": [
                  "urllib3"
                ]
              }
            }
          },
          "metadata": {}
        },
        {
          "output_type": "stream",
          "name": "stdout",
          "text": [
            "Ign:1 https://developer.download.nvidia.com/compute/cuda/repos/ubuntu1804/x86_64  InRelease\n",
            "Get:2 http://security.ubuntu.com/ubuntu bionic-security InRelease [88.7 kB]\n",
            "Get:3 http://ppa.launchpad.net/c2d4u.team/c2d4u4.0+/ubuntu bionic InRelease [15.9 kB]\n",
            "Ign:4 https://developer.download.nvidia.com/compute/machine-learning/repos/ubuntu1804/x86_64  InRelease\n",
            "Hit:5 https://developer.download.nvidia.com/compute/cuda/repos/ubuntu1804/x86_64  Release\n",
            "Hit:6 http://archive.ubuntu.com/ubuntu bionic InRelease\n",
            "Get:7 https://cloud.r-project.org/bin/linux/ubuntu bionic-cran40/ InRelease [3,626 B]\n",
            "Hit:8 https://developer.download.nvidia.com/compute/machine-learning/repos/ubuntu1804/x86_64  Release\n",
            "Get:9 http://archive.ubuntu.com/ubuntu bionic-updates InRelease [88.7 kB]\n",
            "Hit:10 http://ppa.launchpad.net/cran/libgit2/ubuntu bionic InRelease\n",
            "Get:12 http://archive.ubuntu.com/ubuntu bionic-backports InRelease [74.6 kB]\n",
            "Get:13 http://ppa.launchpad.net/deadsnakes/ppa/ubuntu bionic InRelease [15.9 kB]\n",
            "Hit:14 http://ppa.launchpad.net/graphics-drivers/ppa/ubuntu bionic InRelease\n",
            "Get:16 http://ppa.launchpad.net/c2d4u.team/c2d4u4.0+/ubuntu bionic/main Sources [1,819 kB]\n",
            "Get:17 http://security.ubuntu.com/ubuntu bionic-security/main amd64 Packages [2,461 kB]\n",
            "Get:18 http://archive.ubuntu.com/ubuntu bionic-updates/universe amd64 Packages [2,228 kB]\n",
            "Get:19 http://security.ubuntu.com/ubuntu bionic-security/restricted amd64 Packages [691 kB]\n",
            "Get:20 http://security.ubuntu.com/ubuntu bionic-security/universe amd64 Packages [1,450 kB]\n",
            "Get:21 http://ppa.launchpad.net/c2d4u.team/c2d4u4.0+/ubuntu bionic/main amd64 Packages [933 kB]\n",
            "Get:22 http://archive.ubuntu.com/ubuntu bionic-updates/main amd64 Packages [2,898 kB]\n",
            "Get:23 http://ppa.launchpad.net/deadsnakes/ppa/ubuntu bionic/main amd64 Packages [45.9 kB]\n",
            "Fetched 12.8 MB in 4s (3,425 kB/s)\n",
            "Reading package lists... Done\n",
            "Reading package lists... Done\n",
            "Building dependency tree       \n",
            "Reading state information... Done\n",
            "The following additional packages will be installed:\n",
            "  chromium-browser chromium-browser-l10n chromium-codecs-ffmpeg-extra\n",
            "Suggested packages:\n",
            "  webaccounts-chromium-extension unity-chromium-extension\n",
            "The following NEW packages will be installed:\n",
            "  chromium-browser chromium-browser-l10n chromium-chromedriver\n",
            "  chromium-codecs-ffmpeg-extra\n",
            "0 upgraded, 4 newly installed, 0 to remove and 58 not upgraded.\n",
            "Need to get 94.0 MB of archives.\n",
            "After this operation, 324 MB of additional disk space will be used.\n",
            "Get:1 http://archive.ubuntu.com/ubuntu bionic-updates/universe amd64 chromium-codecs-ffmpeg-extra amd64 95.0.4638.69-0ubuntu0.18.04.1 [1,135 kB]\n",
            "Get:2 http://archive.ubuntu.com/ubuntu bionic-updates/universe amd64 chromium-browser amd64 95.0.4638.69-0ubuntu0.18.04.1 [83.6 MB]\n",
            "Get:3 http://archive.ubuntu.com/ubuntu bionic-updates/universe amd64 chromium-browser-l10n all 95.0.4638.69-0ubuntu0.18.04.1 [4,249 kB]\n",
            "Get:4 http://archive.ubuntu.com/ubuntu bionic-updates/universe amd64 chromium-chromedriver amd64 95.0.4638.69-0ubuntu0.18.04.1 [4,986 kB]\n",
            "Fetched 94.0 MB in 4s (23.5 MB/s)\n",
            "Selecting previously unselected package chromium-codecs-ffmpeg-extra.\n",
            "(Reading database ... 155222 files and directories currently installed.)\n",
            "Preparing to unpack .../chromium-codecs-ffmpeg-extra_95.0.4638.69-0ubuntu0.18.04.1_amd64.deb ...\n",
            "Unpacking chromium-codecs-ffmpeg-extra (95.0.4638.69-0ubuntu0.18.04.1) ...\n",
            "Selecting previously unselected package chromium-browser.\n",
            "Preparing to unpack .../chromium-browser_95.0.4638.69-0ubuntu0.18.04.1_amd64.deb ...\n",
            "Unpacking chromium-browser (95.0.4638.69-0ubuntu0.18.04.1) ...\n",
            "Selecting previously unselected package chromium-browser-l10n.\n",
            "Preparing to unpack .../chromium-browser-l10n_95.0.4638.69-0ubuntu0.18.04.1_all.deb ...\n",
            "Unpacking chromium-browser-l10n (95.0.4638.69-0ubuntu0.18.04.1) ...\n",
            "Selecting previously unselected package chromium-chromedriver.\n",
            "Preparing to unpack .../chromium-chromedriver_95.0.4638.69-0ubuntu0.18.04.1_amd64.deb ...\n",
            "Unpacking chromium-chromedriver (95.0.4638.69-0ubuntu0.18.04.1) ...\n",
            "Setting up chromium-codecs-ffmpeg-extra (95.0.4638.69-0ubuntu0.18.04.1) ...\n",
            "Setting up chromium-browser (95.0.4638.69-0ubuntu0.18.04.1) ...\n",
            "update-alternatives: using /usr/bin/chromium-browser to provide /usr/bin/x-www-browser (x-www-browser) in auto mode\n",
            "update-alternatives: using /usr/bin/chromium-browser to provide /usr/bin/gnome-www-browser (gnome-www-browser) in auto mode\n",
            "Setting up chromium-chromedriver (95.0.4638.69-0ubuntu0.18.04.1) ...\n",
            "Setting up chromium-browser-l10n (95.0.4638.69-0ubuntu0.18.04.1) ...\n",
            "Processing triggers for man-db (2.8.3-2ubuntu0.1) ...\n",
            "Processing triggers for hicolor-icon-theme (0.17-2) ...\n",
            "Processing triggers for mime-support (3.60ubuntu1) ...\n",
            "Processing triggers for libc-bin (2.27-3ubuntu1.3) ...\n",
            "/sbin/ldconfig.real: /usr/local/lib/python3.7/dist-packages/ideep4py/lib/libmkldnn.so.0 is not a symbolic link\n",
            "\n"
          ]
        }
      ]
    },
    {
      "cell_type": "code",
      "execution_count": 3,
      "metadata": {
        "id": "2dSunRl9Rq9o"
      },
      "outputs": [],
      "source": [
        "import time\n",
        "import requests as rq\n",
        "import pandas as pd\n",
        "from bs4 import BeautifulSoup\n",
        "from selenium import webdriver\n",
        "from selenium.webdriver.common.by import By\n",
        "import json\n",
        "\n",
        "options = webdriver.ChromeOptions()\n",
        "options.add_argument('--headless') # não renderiza parte gráfica\n",
        "options.add_argument('--no-sandbox') #obrigatório, caso contrário gera erro, pois está abrindo como root e exige --no-sandbox\n",
        "\n",
        "#Veja mais opções aqui:\n",
        "#https://peter.sh/experiments/chromium-command-line-switches/\n",
        "\n",
        "driver = webdriver.Chrome(options = options)\n"
      ]
    },
    {
      "cell_type": "code",
      "source": [
        "url = 'https://store.steampowered.com/specials/?l=portuguese'\n",
        "\n",
        "driver.get(url)\n",
        "driver.implicitly_wait(10)"
      ],
      "metadata": {
        "id": "L7rCvL8bU6CS"
      },
      "execution_count": 4,
      "outputs": []
    },
    {
      "cell_type": "code",
      "source": [
        "#Função criada para evitar pegar valores nulos e/ou espaço em branco.\n",
        "def toString(varItem):\n",
        "    varLista=[]\n",
        "    for i in varItem:\n",
        "        if i.text == '':\n",
        "            pass\n",
        "        else:\n",
        "            varLista.append(i.text)\n",
        "    return varLista"
      ],
      "metadata": {
        "id": "t2pm29M0ikOb"
      },
      "execution_count": 5,
      "outputs": []
    },
    {
      "cell_type": "code",
      "source": [
        "#Pegando o nome dos jogos\n",
        "jogos_nome = driver.find_elements(By.CLASS_NAME, 'tab_item_name')\n",
        "nm_jogos = toString(jogos_nome)"
      ],
      "metadata": {
        "id": "RY2zEBBsb54L"
      },
      "execution_count": 6,
      "outputs": []
    },
    {
      "cell_type": "code",
      "source": [
        "#Pegando as classes dos jogos\n",
        "jogos_details = driver.find_elements(By.CLASS_NAME, 'tab_item_details')\n",
        "categoria_jogos = toString(jogos_details)"
      ],
      "metadata": {
        "id": "QinYi-1FZjMd"
      },
      "execution_count": 7,
      "outputs": []
    },
    {
      "cell_type": "code",
      "source": [
        " #Pegando o desconto\n",
        " jogos_desconto = driver.find_elements(By.XPATH, '//div[@id=\"NewReleasesTable\"]//div[@class=\"discount_pct\"]')\n",
        " desconto_jogos = toString(jogos_desconto)"
      ],
      "metadata": {
        "colab": {
          "base_uri": "https://localhost:8080/"
        },
        "id": "_7V_6LJcZ12D",
        "outputId": "7487e8e8-aece-41d7-f927-9e4821379201"
      },
      "execution_count": 8,
      "outputs": [
        {
          "output_type": "stream",
          "name": "stdout",
          "text": [
            "['-25%', '-10%', '-10%', '-35%', '-20%', '-20%', '-30%', '-10%', '-10%', '-50%', '-30%', '-60%', '-50%', '-35%', '-35%']\n"
          ]
        }
      ]
    },
    {
      "cell_type": "code",
      "source": [
        "#Pegando o valor original\n",
        "jogos_valOrig = driver.find_elements(By.XPATH, '//div[@id=\"NewReleasesTable\"]//div[@class=\"discount_original_price\"]')\n",
        "valOrig_jogos = toString(jogos_valOrig)"
      ],
      "metadata": {
        "id": "-q9abTa-agZn"
      },
      "execution_count": 9,
      "outputs": []
    },
    {
      "cell_type": "code",
      "source": [
        "jogos_valDesc = driver.find_elements(By.XPATH, '//div[@id=\"NewReleasesTable\"]//div[@class=\"discount_final_price\"]')\n",
        "valDesc_jogos = toString(jogos_valDesc)"
      ],
      "metadata": {
        "id": "NEQA4jWUbJ0j"
      },
      "execution_count": 10,
      "outputs": []
    },
    {
      "cell_type": "code",
      "source": [
        "df = pd.DataFrame() "
      ],
      "metadata": {
        "id": "JWU3ub9ugzTC"
      },
      "execution_count": 11,
      "outputs": []
    },
    {
      "cell_type": "code",
      "source": [
        "df['nomes'] = nm_jogos\n",
        "df['categorias'] = categoria_jogos\n",
        "df['perc_desc'] = desconto_jogos\n",
        "df['val_original'] = valOrig_jogos\n",
        "df['val_desconto'] = valDesc_jogos\n",
        "print(df.to_string())\n",
        "\n",
        "df.to_csv('jogos_desconto.csv',encoding='latin1',index=False)"
      ],
      "metadata": {
        "colab": {
          "base_uri": "https://localhost:8080/"
        },
        "id": "RR91VJrLhAIk",
        "outputId": "a890fa59-cf8f-4d60-9056-88e4a66be226"
      },
      "execution_count": 15,
      "outputs": [
        {
          "output_type": "stream",
          "name": "stdout",
          "text": [
            "                               nomes                                                                          categorias perc_desc val_original val_desconto\n",
            "0                               GTFO                        Co-op, Co-op Online, Tiros em Primeira Pessoa, Jogo de Tiros      -25%       $39.99       $29.99\n",
            "1     Ultimate Admiral: Dreadnoughts                                  Combate Naval, Naval, Simulador, Acesso Antecipado      -10%       $34.99       $31.49\n",
            "2   After the Fall® - Launch Edition                  Só em R.V.\\nAção, Aventura, Violência Explícita, Realidade Virtual      -10%       $39.99       $35.99\n",
            "3   Marvel's Guardians of the Galaxy                                 Ação, Exploração, Ação/Aventura, História Excelente      -35%       $59.99       $38.99\n",
            "4                   Escape Simulator                                 Quebra-Cabeças, Co-op, Escape Room, Primeira Pessoa      -20%       $14.99       $11.99\n",
            "5                        Inscryption  Card Battler, Jogo de Cartas, Construção de Baralhos de Cartas, História Excelente      -20%       $19.99       $15.99\n",
            "6         Jurassic World Evolution 2                                          Dinossauros, Simulador, Construção, Gestão      -30%       $59.99       $41.99\n",
            "7             Rune Factory 4 Special                                  RPG, Aventura, Simuladores de Agricultura, Romance      -10%       $29.99       $26.99\n",
            "8                          Wytchwood                                     História Excelente, RPG, Investigação, Crafting      -10%       $19.99       $17.99\n",
            "9                          DEATHLOOP                            Tiros em Primeira Pessoa, Ação, Primeira Pessoa, Stealth      -50%       $59.99       $29.99\n",
            "10                      Back 4 Blood                                           Zombies, Co-op Online, Ação, Multijogador      -30%       $59.99       $41.99\n",
            "11                           FIFA 22                                              Soccer, Desporto, Competitivo, Futebol      -60%       $59.99       $23.99\n",
            "12                          NBA 2K22                                          Desporto, Basquetebol, Simulador, e-sports      -50%       $59.99       $29.99\n",
            "13                     Psychonauts 2                      História Excelente, Plataformas 3D, Um Só Jogador, Psicológico      -35%       $59.99       $38.99\n",
            "14              GUILTY GEAR -STRIVE-                                                          Luta 2D, Luta, Anime, 2,5D      -35%       $59.99       $38.99\n"
          ]
        }
      ]
    }
  ]
}